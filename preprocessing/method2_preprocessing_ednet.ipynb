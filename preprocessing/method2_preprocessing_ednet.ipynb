{
 "cells": [
  {
   "cell_type": "code",
   "execution_count": null,
   "metadata": {},
   "outputs": [],
   "source": [
    "import pandas as pd\n",
    "import numpy as np\n",
    "import pickle\n",
    "from tqdm.notebook import tqdm"
   ]
  },
  {
   "cell_type": "code",
   "execution_count": null,
   "metadata": {},
   "outputs": [],
   "source": [
    "df_ednet = pd.read_pickle('./data/ednet/preprocessed_total_data.pkl').dropna()\n",
    "df_ednet"
   ]
  },
  {
   "cell_type": "code",
   "execution_count": null,
   "metadata": {},
   "outputs": [],
   "source": [
    "# duplicate answer question data remove\n",
    "from collections import defaultdict\n",
    "\n",
    "null_dict = defaultdict(set)\n",
    "\n",
    "for row in tqdm(df_ednet.itertuples()):\n",
    "    question_id = row.question_id\n",
    "    is_correct = row.corretness\n",
    "    correct_answer = row.correct_answer\n",
    "\n",
    "    if is_correct == 1:\n",
    "        null_dict[question_id].add(correct_answer)\n",
    "    elif is_correct == 0:\n",
    "        null_dict[question_id].add(correct_answer)\n",
    "\n",
    "null_list = [q for q, answers in null_dict.items() if len(answers) > 1]\n"
   ]
  },
  {
   "cell_type": "code",
   "execution_count": null,
   "metadata": {},
   "outputs": [],
   "source": [
    "# baseline id_dic_construction\n",
    "def id_dic_construction(x):\n",
    "    corresponding_dic = {}\n",
    "    for dic_index in range(len(x)):\n",
    "        corresponding_dic[x[dic_index]] = dic_index\n",
    "    return corresponding_dic"
   ]
  },
  {
   "cell_type": "code",
   "execution_count": null,
   "metadata": {},
   "outputs": [],
   "source": [
    "question_info = pd.read_csv(\"./data/ednet/questions.csv\")\n",
    "question_info\n"
   ]
  },
  {
   "cell_type": "code",
   "execution_count": null,
   "metadata": {},
   "outputs": [],
   "source": [
    "# baseline id_dic\n",
    "\n",
    "# Extract question_info \n",
    "question_info = pd.read_csv(\"./data/ednet/questions.csv\")\n",
    "for i, q in enumerate(question_info['question_id']):\n",
    "    question_info['question_id'][i] = q[1:]\n",
    "question_info\n",
    "print(question_info.columns)\n",
    "question_info = question_info.drop_duplicates()\n",
    "\n",
    "question_info = question_info.values\n",
    "\n",
    "# Extract question_id\n",
    "question_id = np.unique(question_info[:, 0])\n",
    "question_dic = id_dic_construction(question_id)\n",
    "\n",
    "# Extract skill_id\n",
    "for i, kc in enumerate(question_info):\n",
    "    question_info[i, 5] = list(map(int, kc[5].split(';')))\n",
    "skill = []\n",
    "for i in range(len(question_info)):\n",
    "    skill += question_info[i, 5]\n",
    "skill = np.unique(np.array(skill).astype('int64'))\n",
    "skill_dic = id_dic_construction(skill)\n",
    "\n",
    "# question, skill renaming with dictionary\n",
    "for i in range(len(question_info)):\n",
    "    question_info[i, 0] = question_dic[question_info[i, 0]]\n",
    "    question_info[i, 5] = [skill_dic[skill] for skill in question_info[i, 5]]\n",
    "'''\n",
    "for i in range(len(question_info)):\n",
    "    question_info[i, 0] = question_dic[question_info[i, 0]]\n",
    "    for n in range(len(question_info[i, 1])):\n",
    "        question_info[i, 1][n] = skill_dic[question_info[i, 1][n]]\n",
    "'''\n",
    "question_info"
   ]
  },
  {
   "cell_type": "code",
   "execution_count": null,
   "metadata": {},
   "outputs": [],
   "source": [
    "with open (\"./data/ednet/question_dic.pkl\", \"wb\") as f:\n",
    "    pickle.dump(question_dic, f)\n",
    "with open (\"./data/ednet/skill_dic.pkl\", \"wb\") as f:\n",
    "    pickle.dump(skill_dic, f)   "
   ]
  },
  {
   "cell_type": "code",
   "execution_count": null,
   "metadata": {},
   "outputs": [],
   "source": [
    "# Make baseline q_matrix\n",
    "tmp_question_skill_cell = []\n",
    "for i in tqdm(range(len(question_info))):\n",
    "    q_id = question_info[i, 0]\n",
    "    skill = question_info[i, 5]\n",
    "    for kc in np.array(skill).astype('int64'):\n",
    "        tmp_question_skill_cell.append([q_id, kc])\n",
    "tmp_question_skill_cell = np.array(tmp_question_skill_cell)\n",
    "exercise_num = len(question_dic)\n",
    "skill_num = len(skill_dic)\n",
    "tmp_exercise_id = tmp_question_skill_cell[:, 0]\n",
    "tmp_skill_id = tmp_question_skill_cell[:, 1]\n",
    "baseline_q_matrix = np.zeros([exercise_num, skill_num])\n",
    "for i in tqdm(range(len(tmp_question_skill_cell))):\n",
    "    baseline_q_matrix[int(tmp_exercise_id[i]), int(tmp_skill_id[i])] = 1\n",
    "baseline_q_matrix"
   ]
  },
  {
   "cell_type": "code",
   "execution_count": null,
   "metadata": {},
   "outputs": [],
   "source": [
    "with open (\"./data/ednet/q_matrix_ednet.pkl\", \"wb\") as f:\n",
    "    pickle.dump(baseline_q_matrix, f)"
   ]
  },
  {
   "cell_type": "code",
   "execution_count": null,
   "metadata": {},
   "outputs": [],
   "source": [
    "question_dic = pd.read_pickle(\"./data/ednet/question_dic.pkl\")\n",
    "skill_dic = pd.read_pickle(\"./data/ednet/skill_dic.pkl\")"
   ]
  },
  {
   "cell_type": "code",
   "execution_count": null,
   "metadata": {},
   "outputs": [],
   "source": [
    "# Problem solving rate of each student\n",
    "\n",
    "from collections import defaultdict\n",
    "\n",
    "problem_solving_rate = defaultdict(int)\n",
    "\n",
    "grouped = df_ednet.groupby(df_ednet.iloc[:, 0])\n",
    "\n",
    "for student, group in tqdm(grouped):\n",
    "    unique_questions = group.iloc[:, 1].unique()\n",
    "    problem_solving_rate[student] = len(unique_questions) / len(question_dic)\n",
    "\n",
    "dict(problem_solving_rate)\n"
   ]
  },
  {
   "cell_type": "code",
   "execution_count": null,
   "metadata": {},
   "outputs": [],
   "source": [
    "with open(\"./data/ednet/problem_solving_rate.pkl\", \"wb\") as f:\n",
    "    pickle.dump(problem_solving_rate, f)"
   ]
  },
  {
   "cell_type": "code",
   "execution_count": null,
   "metadata": {},
   "outputs": [],
   "source": [
    "problem_solving_rate = pd.read_pickle(\"./data/ednet/problem_solving_rate.pkl\")"
   ]
  },
  {
   "cell_type": "code",
   "execution_count": null,
   "metadata": {},
   "outputs": [],
   "source": [
    "# Percentage of total correct answers for each student\n",
    "\n",
    "from collections import defaultdict\n",
    "correct_rate = defaultdict(int)\n",
    "\n",
    "\n",
    "grouped = df_ednet.groupby(df_ednet.iloc[:, 0])\n",
    "\n",
    "for student, group in tqdm(grouped):\n",
    "    if len(group.iloc[:, 6]) == 0:\n",
    "        correct_rate[student] = 0\n",
    "    else:\n",
    "        correct_rate[student] = sum(group.iloc[:, 6])/len(group.iloc[:, 6])\n",
    "\n",
    "correct_rate"
   ]
  },
  {
   "cell_type": "code",
   "execution_count": null,
   "metadata": {},
   "outputs": [],
   "source": [
    "with open(\"./data/ednet/correct_rate.pkl\", \"wb\") as f:\n",
    "    pickle.dump(correct_rate, f)"
   ]
  },
  {
   "cell_type": "code",
   "execution_count": null,
   "metadata": {},
   "outputs": [],
   "source": [
    "correct_rate = pd.read_pickle(\"./data/ednet/correct_rate.pkl\")"
   ]
  },
  {
   "cell_type": "code",
   "execution_count": null,
   "metadata": {},
   "outputs": [],
   "source": [
    "# A dictionary with a list of students who solved each problem\n",
    "\n",
    "from collections import defaultdict\n",
    "problem_student = defaultdict(int)\n",
    "\n",
    "grouped = df_ednet.groupby(df_ednet.iloc[:, 1])\n",
    "\n",
    "\n",
    "for question, group in tqdm(grouped):\n",
    "    unique_students = group.iloc[:, 0].unique()\n",
    "    problem_student[question] = unique_students\n",
    "problem_student"
   ]
  },
  {
   "cell_type": "code",
   "execution_count": null,
   "metadata": {},
   "outputs": [],
   "source": [
    "with open(\"./data/ednet/problem_student.pkl\", \"wb\") as f:\n",
    "    pickle.dump(problem_student, f)"
   ]
  },
  {
   "cell_type": "code",
   "execution_count": null,
   "metadata": {},
   "outputs": [],
   "source": [
    "problem_student = pd.read_pickle(\"./data/ednet/problem_student.pkl\")"
   ]
  },
  {
   "cell_type": "code",
   "execution_count": null,
   "metadata": {},
   "outputs": [],
   "source": [
    "# Pick leading group\n",
    "leading_group = {}\n",
    "problem_solving_rate_upper_bound = 0.4 # problem solving upper bound\n",
    "correct_rate_upper_bound = 0.4  # correct rate upper bound\n",
    "\n",
    "for key in tqdm(problem_student):\n",
    "    tmp = np.empty((0, 3), float)\n",
    "    for student in problem_student[key]:\n",
    "        tmp = np.append(tmp, np.array([[student, problem_solving_rate[student], correct_rate[student]]]), axis=0)\n",
    "    pro_solv_rate_sorted_idx = np.argsort(tmp[:, 1])[::-1]\n",
    "    tmp = tmp[pro_solv_rate_sorted_idx]\n",
    "    pro_solv_rate_up_bound = int(np.round(len(tmp[:, 1])*problem_solving_rate_upper_bound))\n",
    "    tmp = tmp[:pro_solv_rate_up_bound+1]\n",
    "    cor_rate_sorted_idx = np.argsort(tmp[:, 2])[::-1]\n",
    "    tmp = tmp[cor_rate_sorted_idx]\n",
    "    cor_rate_up_bound = int(np.round(len(tmp[:, 2])*correct_rate_upper_bound))\n",
    "    tmp_leading_group = tmp[:cor_rate_up_bound+1]\n",
    "    leading_group[key] = tmp_leading_group[:, 0].astype(int)\n",
    "\n",
    "# leading_group"
   ]
  },
  {
   "cell_type": "code",
   "execution_count": null,
   "metadata": {},
   "outputs": [],
   "source": [
    "with open (\"./data/ednet/leading_group.pkl\", \"wb\") as f:\n",
    "    pickle.dump(leading_group, f)"
   ]
  },
  {
   "cell_type": "code",
   "execution_count": null,
   "metadata": {},
   "outputs": [],
   "source": [
    "leading_group = pd.read_pickle(\"./data/ednet/leading_group.pkl\")"
   ]
  },
  {
   "cell_type": "code",
   "execution_count": null,
   "metadata": {},
   "outputs": [],
   "source": [
    "# Option weight extraction based on the option selection rate of the leading group\n",
    "opt_dic = {}\n",
    "for key, group in tqdm(df_ednet.groupby('question_id')):\n",
    "    tmp_opt_list = []\n",
    "    tmp_opt_dic = {}\n",
    "    for i in leading_group[key]:\n",
    "        filtered_df = group[group['user_id'] == i]\n",
    "        tmp_opt_list += list(filtered_df['user_answer'])\n",
    "        correct_answer = list(filtered_df['correct_answer'])[0]\n",
    "    tmp_opt_dic[\"a\"] = tmp_opt_list.count(\"a\") / len(tmp_opt_list) if len(tmp_opt_list) != 0 else 0\n",
    "    tmp_opt_dic[\"b\"] = tmp_opt_list.count(\"b\") / len(tmp_opt_list) if len(tmp_opt_list) != 0 else 0\n",
    "    tmp_opt_dic[\"c\"] = tmp_opt_list.count(\"c\") / len(tmp_opt_list) if len(tmp_opt_list) != 0 else 0\n",
    "    tmp_opt_dic[\"d\"] = tmp_opt_list.count(\"d\") / len(tmp_opt_list) if len(tmp_opt_list) != 0 else 0\n",
    "    tmp_opt_dic[correct_answer] = 2.0\n",
    "    sorted_dic = dict(sorted(tmp_opt_dic.items(), key=lambda x: x[1]))\n",
    "    sorted_keys = list(sorted_dic.keys())\n",
    "    tmp_opt_dic[sorted_keys[0]] = 1\n",
    "    tmp_opt_dic[sorted_keys[1]] = 2\n",
    "    tmp_opt_dic[sorted_keys[2]] = 3\n",
    "    tmp_opt_dic[sorted_keys[3]] = 4\n",
    "    opt_dic[key] = tmp_opt_dic\n"
   ]
  },
  {
   "cell_type": "code",
   "execution_count": null,
   "metadata": {},
   "outputs": [],
   "source": [
    "with open (\"./data/ednet/opt_dic.pkl\", \"wb\") as f:\n",
    "    pickle.dump(opt_dic, f)"
   ]
  },
  {
   "cell_type": "code",
   "execution_count": null,
   "metadata": {},
   "outputs": [],
   "source": [
    "opt_dic = pd.read_pickle(\"./data/ednet/opt_dic.pkl\")\n",
    "# opt_dic"
   ]
  },
  {
   "cell_type": "code",
   "execution_count": null,
   "metadata": {},
   "outputs": [],
   "source": [
    "df_ednet_values = df_ednet.values"
   ]
  },
  {
   "cell_type": "code",
   "execution_count": null,
   "metadata": {},
   "outputs": [],
   "source": [
    "# Extract Option Weight\n",
    "option_list = [opt_dic[df_ednet_values[i, 1]][df_ednet_values[i, 2]] for i in tqdm(range(len(df_ednet_values)))]\n",
    "df_ednet['OptionWeight'] = option_list\n",
    "df_ednet"
   ]
  },
  {
   "cell_type": "code",
   "execution_count": null,
   "metadata": {},
   "outputs": [],
   "source": [
    "with open(f'./data/ednet/method_2/ednet.pkl', 'wb') as f:\n",
    "    pickle.dump(df_ednet, f)"
   ]
  },
  {
   "cell_type": "code",
   "execution_count": null,
   "metadata": {},
   "outputs": [],
   "source": [
    "df_ednet = pd.read_pickle(\"./data/ednet/method_2/ednet.pkl\")\n",
    "df_ednet = df_ednet.dropna()"
   ]
  },
  {
   "cell_type": "code",
   "execution_count": null,
   "metadata": {},
   "outputs": [],
   "source": [
    "# extract if it is wrong, but the option weight is 4 ==> nothing should come out, it is normal\n",
    "df_ednet[(df_ednet['corretness']==0)&(df_ednet['OptionWeight']==4)]\n"
   ]
  },
  {
   "cell_type": "code",
   "execution_count": null,
   "metadata": {},
   "outputs": [],
   "source": [
    "# Save pickle file\n",
    "with open(f'../data/ednet/method_2/ednet.pkl', 'wb') as f:\n",
    "    pickle.dump(df_ednet, f)"
   ]
  },
  {
   "cell_type": "code",
   "execution_count": null,
   "metadata": {},
   "outputs": [],
   "source": []
  }
 ],
 "metadata": {
  "kernelspec": {
   "display_name": "Python 3 (ipykernel)",
   "language": "python",
   "name": "python3"
  },
  "language_info": {
   "codemirror_mode": {
    "name": "ipython",
    "version": 3
   },
   "file_extension": ".py",
   "mimetype": "text/x-python",
   "name": "python",
   "nbconvert_exporter": "python",
   "pygments_lexer": "ipython3",
   "version": "3.9.13"
  }
 },
 "nbformat": 4,
 "nbformat_minor": 2
}
